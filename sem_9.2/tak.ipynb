{
 "cells": [
  {
   "cell_type": "code",
   "execution_count": 15,
   "metadata": {},
   "outputs": [
    {
     "data": {
      "text/plain": [
       "206683.83635227982"
      ]
     },
     "execution_count": 15,
     "metadata": {},
     "output_type": "execute_result"
    }
   ],
   "source": [
    "# Задача 40: Работать с файлом california_housing_train.csv, который находится в папке sample_data. Определить \n",
    "# среднюю стоимость дома, где кол-во людей от 0 до 500 (population).\n",
    "\n",
    "import pandas as pd \n",
    "\n",
    "df = pd.read_csv(r'C:\\Users\\admin\\Desktop\\Python\\P\\Python2\\sem_9\\california_housing_train.csv')\n",
    "df[\n",
    "    (df['population'] > 0) &\n",
    "    (df['population'] < 500)\n",
    "].median_house_value.mean()\n"
   ]
  },
  {
   "cell_type": "code",
   "execution_count": 13,
   "metadata": {},
   "outputs": [
    {
     "data": {
      "text/plain": [
       "4.0"
      ]
     },
     "execution_count": 13,
     "metadata": {},
     "output_type": "execute_result"
    }
   ],
   "source": [
    "# Задача 42: Узнать какая максимальная households в зоне минимального значения population.\n",
    "\n",
    "min_population = df.population.min()\n",
    "df[\n",
    "    df['population'] == min_population\n",
    "].households.max()\n"
   ]
  }
 ],
 "metadata": {
  "kernelspec": {
   "display_name": "Python 3",
   "language": "python",
   "name": "python3"
  },
  "language_info": {
   "name": "python",
   "version": "3.10.9"
  },
  "orig_nbformat": 4
 },
 "nbformat": 4,
 "nbformat_minor": 2
}
